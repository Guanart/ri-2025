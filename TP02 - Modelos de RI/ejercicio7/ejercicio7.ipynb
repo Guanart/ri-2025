{
 "cells": [
  {
   "cell_type": "markdown",
   "id": "aae0e74d",
   "metadata": {},
   "source": [
    "## Crear index"
   ]
  },
  {
   "cell_type": "code",
   "execution_count": 1,
   "id": "f669c537",
   "metadata": {},
   "outputs": [
    {
     "name": "stderr",
     "output_type": "stream",
     "text": [
      "/tmp/ipykernel_21231/4093397133.py:11: DeprecationWarning: Call to deprecated class BatchRetrieve. (use pt.terrier.Retriever() instead) -- Deprecated since version 0.11.0.\n",
      "  tfidf = pt.BatchRetrieve(index_path + \"/data.properties\")\n",
      "Java started (triggered by Retriever.__init__) and loaded: pyterrier.java, pyterrier.terrier.java [version=5.11 (build: craig.macdonald 2025-01-13 21:29), helper_version=0.0.8]\n"
     ]
    }
   ],
   "source": [
    "import pyterrier as pt \n",
    "import os\n",
    "import matplotlib.pyplot as plt\n",
    "\n",
    "# Cargar dataset Vaswani (alias “npl”)\n",
    "dataset = pt.datasets.get_dataset(\"vaswani\")                  # 11 429 docs, 93 queries, 2 083 qrels\n",
    "\n",
    "# Indexar con IterDictIndexer\n",
    "index_path = \"./vaswani_index\"\n",
    "if os.path.exists(index_path + \"/data.properties\"):\n",
    "    tfidf = pt.BatchRetrieve(index_path + \"/data.properties\")\n",
    "else:\n",
    "    indexer = pt.index.IterDictIndexer(index_path)\n",
    "    indexref = indexer.index(dataset.get_corpus_iter())\n",
    "    tfidf = pt.BatchRetrieve(indexref, wmodel=\"TF_IDF\")"
   ]
  },
  {
   "cell_type": "markdown",
   "id": "41d5885f",
   "metadata": {},
   "source": [
    "## Experimentos"
   ]
  },
  {
   "cell_type": "code",
   "execution_count": 2,
   "id": "e444243b",
   "metadata": {},
   "outputs": [
    {
     "data": {
      "text/html": [
       "<div>\n",
       "<style scoped>\n",
       "    .dataframe tbody tr th:only-of-type {\n",
       "        vertical-align: middle;\n",
       "    }\n",
       "\n",
       "    .dataframe tbody tr th {\n",
       "        vertical-align: top;\n",
       "    }\n",
       "\n",
       "    .dataframe thead th {\n",
       "        text-align: right;\n",
       "    }\n",
       "</style>\n",
       "<table border=\"1\" class=\"dataframe\">\n",
       "  <thead>\n",
       "    <tr style=\"text-align: right;\">\n",
       "      <th></th>\n",
       "      <th>qid</th>\n",
       "      <th>query</th>\n",
       "    </tr>\n",
       "  </thead>\n",
       "  <tbody>\n",
       "    <tr>\n",
       "      <th>0</th>\n",
       "      <td>1</td>\n",
       "      <td>measurement of dielectric constant of liquids ...</td>\n",
       "    </tr>\n",
       "    <tr>\n",
       "      <th>1</th>\n",
       "      <td>2</td>\n",
       "      <td>mathematical analysis and design details of wa...</td>\n",
       "    </tr>\n",
       "    <tr>\n",
       "      <th>2</th>\n",
       "      <td>3</td>\n",
       "      <td>use of digital computers in the design of band...</td>\n",
       "    </tr>\n",
       "  </tbody>\n",
       "</table>\n",
       "</div>"
      ],
      "text/plain": [
       "  qid                                              query\n",
       "0   1  measurement of dielectric constant of liquids ...\n",
       "1   2  mathematical analysis and design details of wa...\n",
       "2   3  use of digital computers in the design of band..."
      ]
     },
     "execution_count": 2,
     "metadata": {},
     "output_type": "execute_result"
    }
   ],
   "source": [
    "topics = dataset.get_topics()[:3]  # queries\n",
    "qrels = dataset.get_qrels()[:3] # juicios de relevancia\n",
    "topics_rank = tfidf.transform(topics)   # ejecuta las consultas\n",
    "\n",
    "topics[:3]"
   ]
  },
  {
   "cell_type": "markdown",
   "id": "8120b1d7",
   "metadata": {},
   "source": [
    "### Global"
   ]
  },
  {
   "cell_type": "code",
   "execution_count": null,
   "id": "82340d4c",
   "metadata": {},
   "outputs": [
    {
     "name": "stdout",
     "output_type": "stream",
     "text": [
      "     name      P_10       map  ndcg_cut_10\n",
      "0  TF-IDF  0.358065  0.283614     0.434968\n"
     ]
    },
    {
     "ename": "",
     "evalue": "",
     "output_type": "error",
     "traceback": [
      "\u001b[1;31mEl kernel se bloqueó al ejecutar código en la celda actual o en una celda anterior. \n",
      "\u001b[1;31mRevise el código de las celdas para identificar una posible causa del error. \n",
      "\u001b[1;31mHaga clic <a href='https://aka.ms/vscodeJupyterKernelCrash'>aquí</a> para obtener más información. \n",
      "\u001b[1;31mVea Jupyter <a href='command:jupyter.viewOutput'>log</a> para obtener más detalles."
     ]
    }
   ],
   "source": [
    "# Experimento ámbito global: P@10, AP, nDCG@10 + gráfica R-P en 11 puntos\n",
    "global_exp = pt.Experiment(\n",
    "    [tfidf],    # tf-idf\n",
    "    dataset.get_topics(), \n",
    "    dataset.get_qrels(),\n",
    "    names=[\"TF-IDF\"], \n",
    "    eval_metrics=[\"P_10\", \"map\", \"ndcg_cut_10\"],\n",
    "    perquery=False  # si es True, retorna los resultados de cada query; si es False, retorna el promedio global\n",
    ")\n",
    "print(global_exp)"
   ]
  },
  {
   "cell_type": "code",
   "execution_count": null,
   "id": "99ee674b",
   "metadata": {},
   "outputs": [],
   "source": [
    "recall = pt.Utils.evaluate(topics_rank, qrels, metrics=[\"iprec_at_recall_0.00\", \"iprec_at_recall_0.10\", \"iprec_at_recall_0.20\", \"iprec_at_recall_0.30\", \"iprec_at_recall_0.40\",\n",
    "                                       \"iprec_at_recall_0.50\", \"iprec_at_recall_0.60\", \"iprec_at_recall_0.70\", \"iprec_at_recall_0.80\", \"iprec_at_recall_0.90\",\n",
    "                                       \"iprec_at_recall_1.00\"])\n",
    "\n",
    "precision_values = [\n",
    "    recall[\"iprec_at_recall_0.00\"],\n",
    "    recall[\"iprec_at_recall_0.10\"],\n",
    "    recall[\"iprec_at_recall_0.20\"],\n",
    "    recall[\"iprec_at_recall_0.30\"],\n",
    "    recall[\"iprec_at_recall_0.40\"],\n",
    "    recall[\"iprec_at_recall_0.50\"],\n",
    "    recall[\"iprec_at_recall_0.60\"],\n",
    "    recall[\"iprec_at_recall_0.70\"],\n",
    "    recall[\"iprec_at_recall_0.80\"],\n",
    "    recall[\"iprec_at_recall_0.90\"],\n",
    "    recall[\"iprec_at_recall_1.00\"]\n",
    "]\n",
    "\n",
    "recall_points = [0.0, 0.1, 0.2, 0.3, 0.4, 0.5, 0.6, 0.7, 0.8, 0.9, 1.0]\n",
    "\n",
    "plt.figure(figsize=(8, 5))\n",
    "plt.plot(recall_points, precision_values, marker=\"o\", linestyle=\"--\", color=\"b\")\n",
    "plt.xlabel(\"Recall\")\n",
    "plt.ylabel(\"Precision\")\n",
    "plt.title(\"Curva R-Precision (11 puntos estándar)\")\n",
    "plt.grid(True)\n",
    "plt.xticks(recall_points)\n",
    "plt.show()\n"
   ]
  },
  {
   "cell_type": "code",
   "execution_count": null,
   "id": "0d3f7b30",
   "metadata": {},
   "outputs": [],
   "source": [
    "# recalls = [0.0,0.1,0.2,0.3,0.4,0.5,0.6,0.7,0.8,0.9,1.0]\n",
    "# iprec_at_recall = [ IPrec(recall=r) for r in recalls ] # no andaba la eval_metrics \"iprec_at_recall\" de pyTerrier, asi que la hice a mano\n",
    "\n",
    "pr_exp = pt.Experiment(\n",
    "    [tfidf],\n",
    "    topics,\n",
    "    qrels,\n",
    "    names=[\"TF-IDF\"],\n",
    "    eval_metrics=[\"iprec_at_recall_0.00\", \"iprec_at_recall_0.10\", \"iprec_at_recall_0.20\", \"iprec_at_recall_0.30\", \"iprec_at_recall_0.40\", \"iprec_at_recall_0.50\", \"iprec_at_recall_0.60\", \"iprec_at_recall_0.70\", \"iprec_at_recall_0.80\", \"iprec_at_recall_0.90\", \"iprec_at_recall_1.00\"],\n",
    "    perquery=False\n",
    ")\n",
    "\n"
   ]
  },
  {
   "cell_type": "markdown",
   "id": "67906e2f",
   "metadata": {},
   "source": [
    "### Individual (por query)"
   ]
  },
  {
   "cell_type": "code",
   "execution_count": null,
   "id": "c74c7cd2",
   "metadata": {},
   "outputs": [],
   "source": [
    "indv_exp = pt.Experiment(\n",
    "    [tfidf],\n",
    "    topics,\n",
    "    qrels,\n",
    "    names=[\"TF-IDF\"],\n",
    "    eval_metrics=[\"P_10\",\"map\",\"ndcg_cut_10\"],\n",
    "    perquery=True\n",
    ")\n",
    "df_indv = indv_exp.T\n",
    "# df_indv index incluirá cada qid, con columnas P@10, map, ndcg_cut_10\n",
    "print(df_indv.head())"
   ]
  },
  {
   "cell_type": "code",
   "execution_count": null,
   "id": "d4bcf9d8",
   "metadata": {},
   "outputs": [],
   "source": [
    "import seaborn as sns\n",
    "sns.boxplot(data=df_indv[['P@10','map','ndcg_cut_10']])\n",
    "plt.title('Distribución por consulta de P@10, AP, nDCG@10')\n",
    "plt.show()"
   ]
  }
 ],
 "metadata": {
  "kernelspec": {
   "display_name": "custom_env",
   "language": "python",
   "name": "python3"
  },
  "language_info": {
   "codemirror_mode": {
    "name": "ipython",
    "version": 3
   },
   "file_extension": ".py",
   "mimetype": "text/x-python",
   "name": "python",
   "nbconvert_exporter": "python",
   "pygments_lexer": "ipython3",
   "version": "3.12.3"
  }
 },
 "nbformat": 4,
 "nbformat_minor": 5
}
